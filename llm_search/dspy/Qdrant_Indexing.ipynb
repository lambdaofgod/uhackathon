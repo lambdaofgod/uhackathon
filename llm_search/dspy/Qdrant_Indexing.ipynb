{
 "cells": [
  {
   "cell_type": "code",
   "execution_count": 1,
   "id": "587ba93d-2ab2-43f5-92c5-c684694db284",
   "metadata": {},
   "outputs": [],
   "source": [
    "from langchain.text_splitter import CharacterTextSplitter, RecursiveCharacterTextSplitter\n",
    "from langchain.document_loaders import DirectoryLoader\n",
    "from qdrant_client import QdrantClient\n",
    "import tqdm\n",
    "from pathlib import Path\n",
    "from fastembed.embedding import FlagEmbedding"
   ]
  },
  {
   "cell_type": "code",
   "execution_count": 2,
   "id": "21efa5c0-3087-41c1-924e-b878509f9a63",
   "metadata": {},
   "outputs": [],
   "source": [
    "def load_docs(dir, glob_pattern=\"**/*.py\"):\n",
    "    loader = DirectoryLoader(dir, glob=glob_pattern, show_progress=True)\n",
    "    docs = loader.load()\n",
    "    return docs\n",
    "\n",
    "def prepare_docs(docs, chunk_size=512, chunk_overlap=128):\n",
    "    text_splitter = RecursiveCharacterTextSplitter(\n",
    "        chunk_size = chunk_size,\n",
    "        chunk_overlap  = chunk_overlap,\n",
    "        length_function = len,\n",
    "        is_separator_regex = False,\n",
    "    )\n",
    "    return text_splitter.split_documents(docs)\n"
   ]
  },
  {
   "cell_type": "code",
   "execution_count": 3,
   "id": "3c8a23d5-5cfd-4aec-86a8-eca67e61dbf7",
   "metadata": {},
   "outputs": [
    {
     "name": "stderr",
     "output_type": "stream",
     "text": [
      "  0%|▌                                                                                                                                                                        | 95/27511 [00:04<21:48, 20.96it/s]\n"
     ]
    }
   ],
   "source": [
    "raw_docs = load_docs(Path(\"~/Projects/forks/dspy\").expanduser())"
   ]
  },
  {
   "cell_type": "code",
   "execution_count": 4,
   "id": "3397fbe5-4dac-4768-8c48-02373deb07e1",
   "metadata": {},
   "outputs": [
    {
     "name": "stderr",
     "output_type": "stream",
     "text": [
      "100%|███████████████████████████████████████████████████████████████████████████████████████████████████████████████████████████████████████████████████████████████████████| 95/95 [00:00<00:00, 1481259.78it/s]\n"
     ]
    }
   ],
   "source": [
    "lc_docs = prepare_docs(tqdm.tqdm(raw_docs))"
   ]
  },
  {
   "cell_type": "code",
   "execution_count": 5,
   "id": "da0baf6d-6648-4803-9071-d238521b4da9",
   "metadata": {},
   "outputs": [],
   "source": [
    "embedding_model = FlagEmbedding(model_name=\"BAAI/bge-small-en\", max_length=512) "
   ]
  },
  {
   "cell_type": "code",
   "execution_count": 6,
   "id": "032d2b7c-934c-4ecf-8d97-1f3a52ef5318",
   "metadata": {},
   "outputs": [],
   "source": [
    "docs = lc_docs\n",
    "doc_contents = [doc.page_content for doc in docs]"
   ]
  },
  {
   "cell_type": "code",
   "execution_count": 8,
   "id": "11eb619a-727d-4ae8-9824-ee3bf0c678e6",
   "metadata": {},
   "outputs": [
    {
     "name": "stdout",
     "output_type": "stream",
     "text": [
      "CPU times: user 16.8 ms, sys: 9.92 ms, total: 26.7 ms\n",
      "Wall time: 19.3 s\n"
     ]
    }
   ],
   "source": [
    "%%time\n",
    "embeddings = list(embedding_model.embed(doc_contents, batch_size=64, parallel=12))"
   ]
  },
  {
   "cell_type": "code",
   "execution_count": 23,
   "id": "ed1a8e12-ea2c-4b35-a62f-8c05ee15cbf5",
   "metadata": {},
   "outputs": [],
   "source": [
    "client = QdrantClient(path=\"/tmp/dspy_qdrant\")"
   ]
  },
  {
   "cell_type": "code",
   "execution_count": 24,
   "id": "572c43b4-4e4b-40f0-9220-3e99929f510f",
   "metadata": {},
   "outputs": [],
   "source": [
    "def index_langchain_docs(qdrant_client, docs, collection_name=\"dspy\"):\n",
    "    doc_contents = [doc.page_content for doc in docs]\n",
    "    metadatas = [doc.metadata for doc in docs]\n",
    "    qdrant_client.add(\n",
    "        collection_name=collection_name,\n",
    "        documents=doc_contents,\n",
    "        metadata=metadatas,\n",
    "        ids=range(len(docs)),\n",
    "        batch_size=64,\n",
    "        parallel=6\n",
    "    )"
   ]
  },
  {
   "cell_type": "code",
   "execution_count": 25,
   "id": "3ce1236c-0f38-4ffa-bb47-e4a7bf0dae43",
   "metadata": {},
   "outputs": [
    {
     "name": "stdout",
     "output_type": "stream",
     "text": [
      "CPU times: user 112 ms, sys: 172 ms, total: 284 ms\n",
      "Wall time: 21.9 s\n"
     ]
    }
   ],
   "source": [
    "%%time\n",
    "index_langchain_docs(client, lc_docs)"
   ]
  },
  {
   "cell_type": "code",
   "execution_count": 26,
   "id": "d903cdc7-55d6-4195-82a5-be492ab2fddb",
   "metadata": {},
   "outputs": [
    {
     "name": "stdout",
     "output_type": "stream",
     "text": [
      "[QueryResponse(id=707, embedding=None, metadata={'document': \"topk = [] for rank, hit in enumerate(hits, start=1): if self.dataset is not None: row = self.dataset_id_to_index[hit.docid] text = ' '.join(self.dataset[field][row] for field in self.text_fields) pid = self.dataset[self.id_field][row] else: # Pyserini prebuilt faiss indexes can perform docid lookup psg = json.loads(self.searcher.doc(hit.docid).raw()) text = ' '.join(psg[field] for field in self.text_fields) pid = psg[self.id_field]\\n\\ntopk.append({\\n\\n'text': text,\\n\\n'long_text': text,\\n\\n'pid': pid,\", 'source': '/home/kuba/Projects/forks/dspy/dsp/modules/pyserini.py'}, document=\"topk = [] for rank, hit in enumerate(hits, start=1): if self.dataset is not None: row = self.dataset_id_to_index[hit.docid] text = ' '.join(self.dataset[field][row] for field in self.text_fields) pid = self.dataset[self.id_field][row] else: # Pyserini prebuilt faiss indexes can perform docid lookup psg = json.loads(self.searcher.doc(hit.docid).raw()) text = ' '.join(psg[field] for field in self.text_fields) pid = psg[self.id_field]\\n\\ntopk.append({\\n\\n'text': text,\\n\\n'long_text': text,\\n\\n'pid': pid,\", score=0.8618829803535051), QueryResponse(id=705, embedding=None, metadata={'document': 'self.dataset = dataset\\n\\nself.id_field = id_field\\n\\nself.text_fields = text_fields\\n\\nif index in TF_INDEX_INFO or index in FAISS_INDEX_INFO or index in IMPACT_INDEX_INFO: self.searcher = FaissSearcher.from_prebuilt_index(index, self.encoder) else: self.searcher = FaissSearcher(index_dir=index, query_encoder=self.encoder) assert self.dataset is not None self.dataset_id_to_index = {} for i, docid in enumerate(self.dataset[self.id_field]): self.dataset_id_to_index[docid] = i', 'source': '/home/kuba/Projects/forks/dspy/dsp/modules/pyserini.py'}, document='self.dataset = dataset\\n\\nself.id_field = id_field\\n\\nself.text_fields = text_fields\\n\\nif index in TF_INDEX_INFO or index in FAISS_INDEX_INFO or index in IMPACT_INDEX_INFO: self.searcher = FaissSearcher.from_prebuilt_index(index, self.encoder) else: self.searcher = FaissSearcher(index_dir=index, query_encoder=self.encoder) assert self.dataset is not None self.dataset_id_to_index = {} for i, docid in enumerate(self.dataset[self.id_field]): self.dataset_id_to_index[docid] = i', score=0.8565801361474115), QueryResponse(id=338, embedding=None, metadata={'document': 'Returns:\\n\\npinecone.Index: The loaded index.\\n\\n\"\"\"\\n\\n# Pinecone init overrides default if kwargs are present, so we need to exclude if None kwargs = {} if api_key: kwargs[\"api_key\"] = api_key if environment: kwargs[\"environment\"] = environment pinecone.init(**kwargs)\\n\\nreturn pinecone.Index(index_name)', 'source': '/home/kuba/Projects/forks/dspy/dspy/retrieve/pinecone_rm.py'}, document='Returns:\\n\\npinecone.Index: The loaded index.\\n\\n\"\"\"\\n\\n# Pinecone init overrides default if kwargs are present, so we need to exclude if None kwargs = {} if api_key: kwargs[\"api_key\"] = api_key if environment: kwargs[\"environment\"] = environment pinecone.init(**kwargs)\\n\\nreturn pinecone.Index(index_name)', score=0.8521469567428328), QueryResponse(id=362, embedding=None, metadata={'document': 'from .retrieve import Retrieve', 'source': '/home/kuba/Projects/forks/dspy/dspy/retrieve/__init__.py'}, document='from .retrieve import Retrieve', score=0.8491307296685024), QueryResponse(id=361, embedding=None, metadata={'document': 'k = self.k if k is None else k results = self._chromadb_collection.query( query_embeddings=embeddings, n_results=k )\\n\\npassages = [dotdict({\"long_text\": x}) for x in results[\"documents\"][0]]\\n\\nreturn passages', 'source': '/home/kuba/Projects/forks/dspy/dspy/retrieve/chromadb_rm.py'}, document='k = self.k if k is None else k results = self._chromadb_collection.query( query_embeddings=embeddings, n_results=k )\\n\\npassages = [dotdict({\"long_text\": x}) for x in results[\"documents\"][0]]\\n\\nreturn passages', score=0.8485684706634918), QueryResponse(id=56, embedding=None, metadata={'document': \"return '\\\\n'.join(instr)\", 'source': '/home/kuba/Projects/forks/dspy/dspy/predict/program_of_thought.py'}, document=\"return '\\\\n'.join(instr)\", score=0.8463322962346942), QueryResponse(id=446, embedding=None, metadata={'document': 'else:\\n\\nademos.append(rdemo)\\n\\nelse:\\n\\nrdemos_.append(rdemo)\\n\\nademos = new_ademos + ademos rdemos = rdemos_\\n\\nlong_query = self._has_augmented_guidelines()\\n\\nif long_query:\\n\\nexample[\"augmented\"] = True\\n\\nquery = self.query(example)\\n\\n# if it has more lines than fields if len(query.split(\\'\\\\n\\')) > len(self.fields): long_query = True\\n\\nif \"augmented\" not in example or not example.augmented: example[\"augmented\"] = True query = self.query(example)\\n\\nrdemos = \"\\\\n\\\\n\".join(rdemos)', 'source': '/home/kuba/Projects/forks/dspy/dsp/templates/template_v2.py'}, document='else:\\n\\nademos.append(rdemo)\\n\\nelse:\\n\\nrdemos_.append(rdemo)\\n\\nademos = new_ademos + ademos rdemos = rdemos_\\n\\nlong_query = self._has_augmented_guidelines()\\n\\nif long_query:\\n\\nexample[\"augmented\"] = True\\n\\nquery = self.query(example)\\n\\n# if it has more lines than fields if len(query.split(\\'\\\\n\\')) > len(self.fields): long_query = True\\n\\nif \"augmented\" not in example or not example.augmented: example[\"augmented\"] = True query = self.query(example)\\n\\nrdemos = \"\\\\n\\\\n\".join(rdemos)', score=0.8458736861856029), QueryResponse(id=280, embedding=None, metadata={'document': \"'delitem', 'contains', # Unary and other operations 'neg', 'pos', 'abs', 'invert', 'round', 'len', 'getitem', 'setitem', 'delitem', 'contains', 'iter', # Mappings operations (for dicts) 'get', 'keys', 'values', 'items', # Comparison 'eq', 'ne', 'lt', 'le', 'gt', 'ge', ]\", 'source': '/home/kuba/Projects/forks/dspy/dspy/primitives/box.py'}, document=\"'delitem', 'contains', # Unary and other operations 'neg', 'pos', 'abs', 'invert', 'round', 'len', 'getitem', 'setitem', 'delitem', 'contains', 'iter', # Mappings operations (for dicts) 'get', 'keys', 'values', 'items', # Comparison 'eq', 'ne', 'lt', 'le', 'gt', 'ge', ]\", score=0.8455160979025549), QueryResponse(id=481, embedding=None, metadata={'document': 'return L\\n\\nwidth = len(L[0])\\n\\nif width < 100: return [[elem[idx] for elem in L] for idx in range(width)]\\n\\nL = zip(\\n\\nL)\\n\\nreturn L if lazy else list(L)\\n\\ndef zip_first(L1, L2): length = len(L1) if type(L1) in [tuple, list] else None\\n\\nL3 = list(zip(L1, L2))\\n\\nassert length in [None, len(L3)], \"zip_first() failure: length differs!\"\\n\\nreturn L3\\n\\ndef int_or_float(val):\\n\\nif \".\" in val:\\n\\nreturn float(val)\\n\\nreturn int(val)\\n\\ndef groupby_first_item(lst):\\n\\ngroups = defaultdict(list)', 'source': '/home/kuba/Projects/forks/dspy/dsp/utils/utils.py'}, document='return L\\n\\nwidth = len(L[0])\\n\\nif width < 100: return [[elem[idx] for elem in L] for idx in range(width)]\\n\\nL = zip(\\n\\nL)\\n\\nreturn L if lazy else list(L)\\n\\ndef zip_first(L1, L2): length = len(L1) if type(L1) in [tuple, list] else None\\n\\nL3 = list(zip(L1, L2))\\n\\nassert length in [None, len(L3)], \"zip_first() failure: length differs!\"\\n\\nreturn L3\\n\\ndef int_or_float(val):\\n\\nif \".\" in val:\\n\\nreturn float(val)\\n\\nreturn int(val)\\n\\ndef groupby_first_item(lst):\\n\\ngroups = defaultdict(list)', score=0.8438509168206456), QueryResponse(id=172, embedding=None, metadata={'document': 'print(len(best_program.candidate_programs), \"candidate programs found.\")\\n\\nreturn best_program', 'source': '/home/kuba/Projects/forks/dspy/dspy/teleprompt/random_search.py'}, document='print(len(best_program.candidate_programs), \"candidate programs found.\")\\n\\nreturn best_program', score=0.842626568055675)]\n"
     ]
    }
   ],
   "source": [
    "search_result = client.query(\n",
    "    collection_name=\"dspy\",\n",
    "    query_text=\"How to index documents with llamaindex?\"\n",
    ")\n",
    "print(search_result)"
   ]
  },
  {
   "cell_type": "code",
   "execution_count": 21,
   "id": "77c645ee-e084-4fea-98b2-a46e31caea28",
   "metadata": {},
   "outputs": [
    {
     "data": {
      "text/plain": [
       "'/home/kuba/Projects/forks/dspy/dsp/modules/pyserini.py'"
      ]
     },
     "execution_count": 21,
     "metadata": {},
     "output_type": "execute_result"
    }
   ],
   "source": [
    "search_result[0].metadata[\"source\"]"
   ]
  },
  {
   "cell_type": "code",
   "execution_count": 22,
   "id": "effefb15-4c42-4ee2-9a69-c8ca8ed47c8d",
   "metadata": {},
   "outputs": [
    {
     "ename": "NotImplementedError",
     "evalue": "Snapshots are not supported in the local Qdrant. Please use server Qdrant if you need full snapshots.",
     "output_type": "error",
     "traceback": [
      "\u001b[0;31m---------------------------------------------------------------------------\u001b[0m",
      "\u001b[0;31mNotImplementedError\u001b[0m                       Traceback (most recent call last)",
      "Cell \u001b[0;32mIn[22], line 1\u001b[0m\n\u001b[0;32m----> 1\u001b[0m snapshot_info \u001b[38;5;241m=\u001b[39m \u001b[43mclient\u001b[49m\u001b[38;5;241;43m.\u001b[39;49m\u001b[43mcreate_snapshot\u001b[49m\u001b[43m(\u001b[49m\u001b[43mcollection_name\u001b[49m\u001b[38;5;241;43m=\u001b[39;49m\u001b[38;5;124;43m\"\u001b[39;49m\u001b[38;5;124;43mdspy\u001b[39;49m\u001b[38;5;124;43m\"\u001b[39;49m\u001b[43m)\u001b[49m\n",
      "File \u001b[0;32m~/.cache/pypoetry/virtualenvs/llm-search-dspy-03Lo1k6T-py3.10/lib/python3.10/site-packages/qdrant_client/qdrant_client.py:1974\u001b[0m, in \u001b[0;36mQdrantClient.create_snapshot\u001b[0;34m(self, collection_name, wait, **kwargs)\u001b[0m\n\u001b[1;32m   1960\u001b[0m \u001b[38;5;250m\u001b[39m\u001b[38;5;124;03m\"\"\"Create snapshot for a given collection.\u001b[39;00m\n\u001b[1;32m   1961\u001b[0m \n\u001b[1;32m   1962\u001b[0m \u001b[38;5;124;03mArgs:\u001b[39;00m\n\u001b[0;32m   (...)\u001b[0m\n\u001b[1;32m   1970\u001b[0m \u001b[38;5;124;03m    Snapshot description\u001b[39;00m\n\u001b[1;32m   1971\u001b[0m \u001b[38;5;124;03m\"\"\"\u001b[39;00m\n\u001b[1;32m   1972\u001b[0m \u001b[38;5;28;01massert\u001b[39;00m \u001b[38;5;28mlen\u001b[39m(kwargs) \u001b[38;5;241m==\u001b[39m \u001b[38;5;241m0\u001b[39m, \u001b[38;5;124mf\u001b[39m\u001b[38;5;124m\"\u001b[39m\u001b[38;5;124mUnknown arguments: \u001b[39m\u001b[38;5;132;01m{\u001b[39;00m\u001b[38;5;28mlist\u001b[39m(kwargs\u001b[38;5;241m.\u001b[39mkeys())\u001b[38;5;132;01m}\u001b[39;00m\u001b[38;5;124m\"\u001b[39m\n\u001b[0;32m-> 1974\u001b[0m \u001b[38;5;28;01mreturn\u001b[39;00m \u001b[38;5;28;43mself\u001b[39;49m\u001b[38;5;241;43m.\u001b[39;49m\u001b[43m_client\u001b[49m\u001b[38;5;241;43m.\u001b[39;49m\u001b[43mcreate_snapshot\u001b[49m\u001b[43m(\u001b[49m\u001b[43mcollection_name\u001b[49m\u001b[38;5;241;43m=\u001b[39;49m\u001b[43mcollection_name\u001b[49m\u001b[43m,\u001b[49m\u001b[43m \u001b[49m\u001b[43mwait\u001b[49m\u001b[38;5;241;43m=\u001b[39;49m\u001b[43mwait\u001b[49m\u001b[43m,\u001b[49m\u001b[43m \u001b[49m\u001b[38;5;241;43m*\u001b[39;49m\u001b[38;5;241;43m*\u001b[39;49m\u001b[43mkwargs\u001b[49m\u001b[43m)\u001b[49m\n",
      "File \u001b[0;32m~/.cache/pypoetry/virtualenvs/llm-search-dspy-03Lo1k6T-py3.10/lib/python3.10/site-packages/qdrant_client/local/qdrant_local.py:741\u001b[0m, in \u001b[0;36mQdrantLocal.create_snapshot\u001b[0;34m(self, collection_name, **kwargs)\u001b[0m\n\u001b[1;32m    738\u001b[0m \u001b[38;5;28;01mdef\u001b[39;00m \u001b[38;5;21mcreate_snapshot\u001b[39m(\n\u001b[1;32m    739\u001b[0m     \u001b[38;5;28mself\u001b[39m, collection_name: \u001b[38;5;28mstr\u001b[39m, \u001b[38;5;241m*\u001b[39m\u001b[38;5;241m*\u001b[39mkwargs: Any\n\u001b[1;32m    740\u001b[0m ) \u001b[38;5;241m-\u001b[39m\u001b[38;5;241m>\u001b[39m Optional[types\u001b[38;5;241m.\u001b[39mSnapshotDescription]:\n\u001b[0;32m--> 741\u001b[0m     \u001b[38;5;28;01mraise\u001b[39;00m \u001b[38;5;167;01mNotImplementedError\u001b[39;00m(\n\u001b[1;32m    742\u001b[0m         \u001b[38;5;124m\"\u001b[39m\u001b[38;5;124mSnapshots are not supported in the local Qdrant. Please use server Qdrant if you need full snapshots.\u001b[39m\u001b[38;5;124m\"\u001b[39m\n\u001b[1;32m    743\u001b[0m     )\n",
      "\u001b[0;31mNotImplementedError\u001b[0m: Snapshots are not supported in the local Qdrant. Please use server Qdrant if you need full snapshots."
     ]
    }
   ],
   "source": [
    "snapshot_info = client.create_snapshot(collection_name=\"dspy\")\n"
   ]
  },
  {
   "cell_type": "code",
   "execution_count": null,
   "id": "95400565-d202-40c6-ab5b-5dbe1ac45fd2",
   "metadata": {},
   "outputs": [],
   "source": [
    "search_result[0].metadata[\"document\"]"
   ]
  }
 ],
 "metadata": {
  "kernelspec": {
   "display_name": "llm_search_dspy",
   "language": "python",
   "name": "llm_search_dspy"
  },
  "language_info": {
   "codemirror_mode": {
    "name": "ipython",
    "version": 3
   },
   "file_extension": ".py",
   "mimetype": "text/x-python",
   "name": "python",
   "nbconvert_exporter": "python",
   "pygments_lexer": "ipython3",
   "version": "3.10.12"
  }
 },
 "nbformat": 4,
 "nbformat_minor": 5
}
