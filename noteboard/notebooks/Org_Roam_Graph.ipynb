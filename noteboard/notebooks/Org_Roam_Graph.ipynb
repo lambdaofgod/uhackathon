{
 "cells": [
  {
   "cell_type": "code",
   "execution_count": 51,
   "id": "0d588140-961e-4736-8099-cd4ba5873230",
   "metadata": {},
   "outputs": [],
   "source": [
    "import noteboard\n",
    "import pandas as pd\n",
    "from pathlib import Path\n",
    "\n",
    "import numpy as np\n",
    "import networkx as nx\n",
    "\n",
    "from sklearn.cluster import SpectralClustering\n",
    "\n",
    "from noteboard.hyperbolicity import CCLHyperbolicity, NaiveHyperbolicity"
   ]
  },
  {
   "cell_type": "code",
   "execution_count": 2,
   "id": "c007eb11-a29d-4fbb-a41a-87d5ad30bbb1",
   "metadata": {},
   "outputs": [],
   "source": [
    "org_df = pd.read_json(\"../output/roam_df.json\", orient=\"records\", lines=True)"
   ]
  },
  {
   "cell_type": "code",
   "execution_count": 3,
   "id": "a2e967ae-4932-47cd-ac28-abec0af5bea3",
   "metadata": {},
   "outputs": [
    {
     "data": {
      "text/html": [
       "<div>\n",
       "<style scoped>\n",
       "    .dataframe tbody tr th:only-of-type {\n",
       "        vertical-align: middle;\n",
       "    }\n",
       "\n",
       "    .dataframe tbody tr th {\n",
       "        vertical-align: top;\n",
       "    }\n",
       "\n",
       "    .dataframe thead th {\n",
       "        text-align: right;\n",
       "    }\n",
       "</style>\n",
       "<table border=\"1\" class=\"dataframe\">\n",
       "  <thead>\n",
       "    <tr style=\"text-align: right;\">\n",
       "      <th></th>\n",
       "      <th>org_id</th>\n",
       "      <th>parent_id</th>\n",
       "      <th>name</th>\n",
       "      <th>heading</th>\n",
       "      <th>links</th>\n",
       "      <th>level</th>\n",
       "      <th>path</th>\n",
       "      <th>body</th>\n",
       "      <th>text</th>\n",
       "      <th>modified</th>\n",
       "    </tr>\n",
       "  </thead>\n",
       "  <tbody>\n",
       "    <tr>\n",
       "      <th>7</th>\n",
       "      <td>d17b38ea-44b7-44dd-9378-023ff57f36d1</td>\n",
       "      <td>None</td>\n",
       "      <td>2024-03-13</td>\n",
       "      <td></td>\n",
       "      <td>[]</td>\n",
       "      <td>0</td>\n",
       "      <td>/home/kuba/Projects/org/roam/daily/2024-03-13.org</td>\n",
       "      <td>#+title: 2024-03-13\\n</td>\n",
       "      <td>\\n#+title: 2024-03-13\\n</td>\n",
       "      <td>2024-03-13 14:05:19</td>\n",
       "    </tr>\n",
       "    <tr>\n",
       "      <th>8</th>\n",
       "      <td>5d76e47e-5cfe-4f53-a661-e3c32995861a</td>\n",
       "      <td>None</td>\n",
       "      <td>20230227210304-ml_general</td>\n",
       "      <td></td>\n",
       "      <td>[96d48b10-7d8e-4e56-b825-1d9930b716ef, bed940f...</td>\n",
       "      <td>0</td>\n",
       "      <td>/home/kuba/Projects/org/roam/20230227210304-ml...</td>\n",
       "      <td>#+title: ml_general\\n\\ngeneral_nlp\\n\\nml_artic...</td>\n",
       "      <td>\\n#+title: ml_general\\n\\ngeneral_nlp\\n\\nml_art...</td>\n",
       "      <td>2024-03-13 14:02:36</td>\n",
       "    </tr>\n",
       "    <tr>\n",
       "      <th>9</th>\n",
       "      <td>229c7f84-aae0-4f45-894a-68511ca077f6</td>\n",
       "      <td>None</td>\n",
       "      <td>20240215114344-julia_hyperbolic_embeddings</td>\n",
       "      <td></td>\n",
       "      <td>[cdf72f48-56ee-4704-baa7-e78d8c831042]</td>\n",
       "      <td>0</td>\n",
       "      <td>/home/kuba/Projects/org/roam/20240215114344-ju...</td>\n",
       "      <td>#+title: julia_hyperbolic_embeddings\\n\\njulia_...</td>\n",
       "      <td>\\n#+title: julia_hyperbolic_embeddings\\n\\njuli...</td>\n",
       "      <td>2024-03-13 13:51:59</td>\n",
       "    </tr>\n",
       "    <tr>\n",
       "      <th>12</th>\n",
       "      <td>fc9ca3ad-bd56-428d-8223-71942ae3da4e</td>\n",
       "      <td>None</td>\n",
       "      <td>20231014213642-julia_pluto</td>\n",
       "      <td></td>\n",
       "      <td>[031da4c3-2782-48d7-865c-36bd2ad18f50]</td>\n",
       "      <td>0</td>\n",
       "      <td>/home/kuba/Projects/org/roam/20231014213642-ju...</td>\n",
       "      <td>#+title: julia_pluto\\n\\njulia\\n</td>\n",
       "      <td>\\n#+title: julia_pluto\\n\\njulia\\n</td>\n",
       "      <td>2024-03-13 13:51:19</td>\n",
       "    </tr>\n",
       "    <tr>\n",
       "      <th>18</th>\n",
       "      <td>38865bff-5060-435b-8b29-66d509bd3423</td>\n",
       "      <td>None</td>\n",
       "      <td>20231012141742-julia_ml</td>\n",
       "      <td></td>\n",
       "      <td>[031da4c3-2782-48d7-865c-36bd2ad18f50, 6ac7604...</td>\n",
       "      <td>0</td>\n",
       "      <td>/home/kuba/Projects/org/roam/20231012141742-ju...</td>\n",
       "      <td>#+title: julia_ml\\n\\n\\njulia\\n</td>\n",
       "      <td>\\n#+title: julia_ml\\n\\n\\njulia\\n</td>\n",
       "      <td>2024-03-13 13:51:11</td>\n",
       "    </tr>\n",
       "    <tr>\n",
       "      <th>...</th>\n",
       "      <td>...</td>\n",
       "      <td>...</td>\n",
       "      <td>...</td>\n",
       "      <td>...</td>\n",
       "      <td>...</td>\n",
       "      <td>...</td>\n",
       "      <td>...</td>\n",
       "      <td>...</td>\n",
       "      <td>...</td>\n",
       "      <td>...</td>\n",
       "    </tr>\n",
       "    <tr>\n",
       "      <th>6426</th>\n",
       "      <td>12038f70-4e59-4766-b7b0-f7a8ade6fba5</td>\n",
       "      <td>None</td>\n",
       "      <td>20230418002749-summarization</td>\n",
       "      <td></td>\n",
       "      <td>[96d48b10-7d8e-4e56-b825-1d9930b716ef]</td>\n",
       "      <td>0</td>\n",
       "      <td>/home/kuba/Projects/org/roam/20230418002749-su...</td>\n",
       "      <td>#+title: summarization\\n\\ngeneral_nlp\\n</td>\n",
       "      <td>\\n#+title: summarization\\n\\ngeneral_nlp\\n</td>\n",
       "      <td>2023-09-05 22:28:14</td>\n",
       "    </tr>\n",
       "    <tr>\n",
       "      <th>6429</th>\n",
       "      <td>a7e30725-ac43-4c57-a83e-2e6464f63d33</td>\n",
       "      <td>None</td>\n",
       "      <td>20230321163716-work_data_generation</td>\n",
       "      <td></td>\n",
       "      <td>[6e666966-d8c6-4f57-841e-f2e71fc52322]</td>\n",
       "      <td>0</td>\n",
       "      <td>/home/kuba/Projects/org/roam/20230321163716-wo...</td>\n",
       "      <td>#+title: work/data_generation\\n\\nconversation_...</td>\n",
       "      <td>\\n#+title: work/data_generation\\n\\nconversatio...</td>\n",
       "      <td>2023-09-05 22:28:14</td>\n",
       "    </tr>\n",
       "    <tr>\n",
       "      <th>6430</th>\n",
       "      <td>7f0ee414-53fd-44a3-ad1a-57e2ffccd4b4</td>\n",
       "      <td>None</td>\n",
       "      <td>20230410114311-mgr_index_construction</td>\n",
       "      <td></td>\n",
       "      <td>[43170e6c-9047-4090-8f76-59787cf391d5]</td>\n",
       "      <td>0</td>\n",
       "      <td>/home/kuba/Projects/org/roam/20230410114311-mg...</td>\n",
       "      <td>#+title: mgr/index_construction\\n\\nmgr/represe...</td>\n",
       "      <td>\\n#+title: mgr/index_construction\\n\\nmgr/repre...</td>\n",
       "      <td>2023-09-05 22:28:14</td>\n",
       "    </tr>\n",
       "    <tr>\n",
       "      <th>6458</th>\n",
       "      <td>0d15b026-1607-4315-90e4-2892d32475a8</td>\n",
       "      <td>None</td>\n",
       "      <td>20230419131722-wm_mvp</td>\n",
       "      <td></td>\n",
       "      <td>[65d4c2ab-8449-497f-9918-11942fa0b76d, a611adc...</td>\n",
       "      <td>0</td>\n",
       "      <td>/home/kuba/Projects/org/roam/20230419131722-wm...</td>\n",
       "      <td>#+title: wm/mvp\\n\\nwm\\n\\nwywiad_medyczny_flow\\n</td>\n",
       "      <td>\\n#+title: wm/mvp\\n\\nwm\\n\\nwywiad_medyczny_flow\\n</td>\n",
       "      <td>2023-09-05 22:28:14</td>\n",
       "    </tr>\n",
       "    <tr>\n",
       "      <th>6459</th>\n",
       "      <td>63989ee0-e37d-47f3-b31f-e6d60d7eabfe</td>\n",
       "      <td>None</td>\n",
       "      <td>20230326135615-nlp_piqa</td>\n",
       "      <td></td>\n",
       "      <td>[ab5ccbbf-5893-4d42-8785-6c8e51d0e9e2]</td>\n",
       "      <td>0</td>\n",
       "      <td>/home/kuba/Projects/org/roam/20230326135615-nl...</td>\n",
       "      <td>#+title: nlp/PIQA\\n\\nllms/evaluation</td>\n",
       "      <td>\\n#+title: nlp/PIQA\\n\\nllms/evaluation</td>\n",
       "      <td>2023-09-05 22:28:14</td>\n",
       "    </tr>\n",
       "  </tbody>\n",
       "</table>\n",
       "<p>1096 rows × 10 columns</p>\n",
       "</div>"
      ],
      "text/plain": [
       "                                    org_id parent_id  \\\n",
       "7     d17b38ea-44b7-44dd-9378-023ff57f36d1      None   \n",
       "8     5d76e47e-5cfe-4f53-a661-e3c32995861a      None   \n",
       "9     229c7f84-aae0-4f45-894a-68511ca077f6      None   \n",
       "12    fc9ca3ad-bd56-428d-8223-71942ae3da4e      None   \n",
       "18    38865bff-5060-435b-8b29-66d509bd3423      None   \n",
       "...                                    ...       ...   \n",
       "6426  12038f70-4e59-4766-b7b0-f7a8ade6fba5      None   \n",
       "6429  a7e30725-ac43-4c57-a83e-2e6464f63d33      None   \n",
       "6430  7f0ee414-53fd-44a3-ad1a-57e2ffccd4b4      None   \n",
       "6458  0d15b026-1607-4315-90e4-2892d32475a8      None   \n",
       "6459  63989ee0-e37d-47f3-b31f-e6d60d7eabfe      None   \n",
       "\n",
       "                                            name heading  \\\n",
       "7                                     2024-03-13           \n",
       "8                      20230227210304-ml_general           \n",
       "9     20240215114344-julia_hyperbolic_embeddings           \n",
       "12                    20231014213642-julia_pluto           \n",
       "18                       20231012141742-julia_ml           \n",
       "...                                          ...     ...   \n",
       "6426                20230418002749-summarization           \n",
       "6429         20230321163716-work_data_generation           \n",
       "6430       20230410114311-mgr_index_construction           \n",
       "6458                       20230419131722-wm_mvp           \n",
       "6459                     20230326135615-nlp_piqa           \n",
       "\n",
       "                                                  links  level  \\\n",
       "7                                                    []      0   \n",
       "8     [96d48b10-7d8e-4e56-b825-1d9930b716ef, bed940f...      0   \n",
       "9                [cdf72f48-56ee-4704-baa7-e78d8c831042]      0   \n",
       "12               [031da4c3-2782-48d7-865c-36bd2ad18f50]      0   \n",
       "18    [031da4c3-2782-48d7-865c-36bd2ad18f50, 6ac7604...      0   \n",
       "...                                                 ...    ...   \n",
       "6426             [96d48b10-7d8e-4e56-b825-1d9930b716ef]      0   \n",
       "6429             [6e666966-d8c6-4f57-841e-f2e71fc52322]      0   \n",
       "6430             [43170e6c-9047-4090-8f76-59787cf391d5]      0   \n",
       "6458  [65d4c2ab-8449-497f-9918-11942fa0b76d, a611adc...      0   \n",
       "6459             [ab5ccbbf-5893-4d42-8785-6c8e51d0e9e2]      0   \n",
       "\n",
       "                                                   path  \\\n",
       "7     /home/kuba/Projects/org/roam/daily/2024-03-13.org   \n",
       "8     /home/kuba/Projects/org/roam/20230227210304-ml...   \n",
       "9     /home/kuba/Projects/org/roam/20240215114344-ju...   \n",
       "12    /home/kuba/Projects/org/roam/20231014213642-ju...   \n",
       "18    /home/kuba/Projects/org/roam/20231012141742-ju...   \n",
       "...                                                 ...   \n",
       "6426  /home/kuba/Projects/org/roam/20230418002749-su...   \n",
       "6429  /home/kuba/Projects/org/roam/20230321163716-wo...   \n",
       "6430  /home/kuba/Projects/org/roam/20230410114311-mg...   \n",
       "6458  /home/kuba/Projects/org/roam/20230419131722-wm...   \n",
       "6459  /home/kuba/Projects/org/roam/20230326135615-nl...   \n",
       "\n",
       "                                                   body  \\\n",
       "7                                 #+title: 2024-03-13\\n   \n",
       "8     #+title: ml_general\\n\\ngeneral_nlp\\n\\nml_artic...   \n",
       "9     #+title: julia_hyperbolic_embeddings\\n\\njulia_...   \n",
       "12                      #+title: julia_pluto\\n\\njulia\\n   \n",
       "18                       #+title: julia_ml\\n\\n\\njulia\\n   \n",
       "...                                                 ...   \n",
       "6426            #+title: summarization\\n\\ngeneral_nlp\\n   \n",
       "6429  #+title: work/data_generation\\n\\nconversation_...   \n",
       "6430  #+title: mgr/index_construction\\n\\nmgr/represe...   \n",
       "6458    #+title: wm/mvp\\n\\nwm\\n\\nwywiad_medyczny_flow\\n   \n",
       "6459               #+title: nlp/PIQA\\n\\nllms/evaluation   \n",
       "\n",
       "                                                   text            modified  \n",
       "7                               \\n#+title: 2024-03-13\\n 2024-03-13 14:05:19  \n",
       "8     \\n#+title: ml_general\\n\\ngeneral_nlp\\n\\nml_art... 2024-03-13 14:02:36  \n",
       "9     \\n#+title: julia_hyperbolic_embeddings\\n\\njuli... 2024-03-13 13:51:59  \n",
       "12                    \\n#+title: julia_pluto\\n\\njulia\\n 2024-03-13 13:51:19  \n",
       "18                     \\n#+title: julia_ml\\n\\n\\njulia\\n 2024-03-13 13:51:11  \n",
       "...                                                 ...                 ...  \n",
       "6426          \\n#+title: summarization\\n\\ngeneral_nlp\\n 2023-09-05 22:28:14  \n",
       "6429  \\n#+title: work/data_generation\\n\\nconversatio... 2023-09-05 22:28:14  \n",
       "6430  \\n#+title: mgr/index_construction\\n\\nmgr/repre... 2023-09-05 22:28:14  \n",
       "6458  \\n#+title: wm/mvp\\n\\nwm\\n\\nwywiad_medyczny_flow\\n 2023-09-05 22:28:14  \n",
       "6459             \\n#+title: nlp/PIQA\\n\\nllms/evaluation 2023-09-05 22:28:14  \n",
       "\n",
       "[1096 rows x 10 columns]"
      ]
     },
     "execution_count": 3,
     "metadata": {},
     "output_type": "execute_result"
    }
   ],
   "source": [
    "org_df[org_df[\"level\"] == 0]"
   ]
  },
  {
   "cell_type": "code",
   "execution_count": 4,
   "id": "0f81f1e1-d60f-4995-9afb-1997aad2cbe4",
   "metadata": {},
   "outputs": [
    {
     "data": {
      "text/plain": [
       "8       [96d48b10-7d8e-4e56-b825-1d9930b716ef, bed940f...\n",
       "9                  [cdf72f48-56ee-4704-baa7-e78d8c831042]\n",
       "12                 [031da4c3-2782-48d7-865c-36bd2ad18f50]\n",
       "15                 [6ac76044-a4f7-4fc9-b649-0811ab7c0a5a]\n",
       "18      [031da4c3-2782-48d7-865c-36bd2ad18f50, 6ac7604...\n",
       "                              ...                        \n",
       "6437               [3d62da32-4cbb-40c7-8c9c-d57c121aee16]\n",
       "6457               [9d540149-3428-42a8-8f45-d3f5c22f784a]\n",
       "6458    [65d4c2ab-8449-497f-9918-11942fa0b76d, a611adc...\n",
       "6459               [ab5ccbbf-5893-4d42-8785-6c8e51d0e9e2]\n",
       "6469               [03023c4a-1650-418d-b67d-e19c7438154a]\n",
       "Name: links, Length: 1195, dtype: object"
      ]
     },
     "execution_count": 4,
     "metadata": {},
     "output_type": "execute_result"
    }
   ],
   "source": [
    "org_df[org_df[\"links\"].apply(len) > 0][\"links\"]"
   ]
  },
  {
   "cell_type": "code",
   "execution_count": 5,
   "id": "2839b11c-3815-4e68-8301-8534f4933302",
   "metadata": {},
   "outputs": [],
   "source": [
    "def get_org_graph(org_df):\n",
    "    def get_fname_links(fname_mapping, links):\n",
    "        return [\n",
    "            fname_mapping.loc[[link]].iloc[0][\"fname\"]\n",
    "            for link in links\n",
    "            if link in fname_mapping.index\n",
    "        ]\n",
    "    \n",
    "    org_df = org_df.copy()\n",
    "    org_df[\"fname\"] = org_df[\"path\"].apply(lambda p: Path(p).name)\n",
    "    fname_mapping = org_df[[\"fname\", \"org_id\"]].set_index(\"org_id\")\n",
    "    per_file_links = org_df.groupby(\"fname\")[\"links\"].agg(sum)\n",
    "    fname_links = per_file_links.apply(\n",
    "        lambda links: get_fname_links(fname_mapping, links))\n",
    "    \n",
    "    # Define a list of node names\n",
    "    nodes = per_file_links.index\n",
    "    \n",
    "    # Define a list of related node names\n",
    "    edges = [\n",
    "        (target_id, src_id)\n",
    "        for (src_id, target_ids) in zip(nodes, fname_links.values)\n",
    "        for target_id in target_ids\n",
    "    ]\n",
    "    \n",
    "    # Initialize a graph\n",
    "    org_graph = nx.DiGraph()\n",
    "    \n",
    "    # Add nodes and edges to the graph\n",
    "    org_graph.add_nodes_from(nodes)\n",
    "    org_graph.add_edges_from(edges)\n",
    "    return org_graph"
   ]
  },
  {
   "cell_type": "code",
   "execution_count": 6,
   "id": "d3621ad4-7915-478f-9904-41b07e0e11c4",
   "metadata": {},
   "outputs": [
    {
     "data": {
      "text/plain": [
       "497               [410d3d4f-673a-4e12-a5b7-bc017a7b7375]\n",
       "498                                                   []\n",
       "507    [35740f44-515a-4bf6-bfd1-cd949e827913, 410d3d4...\n",
       "Name: links, dtype: object"
      ]
     },
     "execution_count": 6,
     "metadata": {},
     "output_type": "execute_result"
    }
   ],
   "source": [
    "org_df[org_df[\"path\"].str.contains(\"fastrag\")][\"links\"].drop_duplicates()"
   ]
  },
  {
   "cell_type": "code",
   "execution_count": 7,
   "id": "768fe326-f206-48c9-bc61-cb9c0e4db07c",
   "metadata": {},
   "outputs": [],
   "source": [
    "#fname_links[fname_links.apply(lambda links: any(\"fastrag\" in l for l in links))]"
   ]
  },
  {
   "cell_type": "code",
   "execution_count": 8,
   "id": "ba5d529f-c098-4aeb-92f4-73855c1d2cbc",
   "metadata": {},
   "outputs": [],
   "source": [
    "full_org_digraph = get_org_graph(org_df)"
   ]
  },
  {
   "cell_type": "code",
   "execution_count": 9,
   "id": "d32a50ad-3f10-4b17-b25c-23ec288c3bca",
   "metadata": {},
   "outputs": [
    {
     "data": {
      "text/plain": [
       "count    1028.000000\n",
       "mean        1.066148\n",
       "std         0.573262\n",
       "min         1.000000\n",
       "25%         1.000000\n",
       "50%         1.000000\n",
       "75%         1.000000\n",
       "max        12.000000\n",
       "dtype: float64"
      ]
     },
     "execution_count": 9,
     "metadata": {},
     "output_type": "execute_result"
    }
   ],
   "source": [
    "strongly_connected_components = [c for c in sorted(nx.strongly_connected_components(full_org_digraph), key=len, reverse=True)]\n",
    "\n",
    "pd.Series([len(c) for c in strongly_connected_components]).describe()"
   ]
  },
  {
   "cell_type": "code",
   "execution_count": 43,
   "id": "64d9e94a-3488-4a16-a7fe-5b75f79406f8",
   "metadata": {},
   "outputs": [],
   "source": [
    "full_org_graph = full_org_digraph.to_undirected()\n",
    "\n",
    "full_components = [c for c in sorted(nx.connected_components(full_org_graph), key=len, reverse=True)]"
   ]
  },
  {
   "cell_type": "code",
   "execution_count": 49,
   "id": "00d81a4d-78a3-4b5b-a49e-a809943a0718",
   "metadata": {},
   "outputs": [
    {
     "data": {
      "text/plain": [
       "{'20231128201133-omatko.org', '20231128201140-conferences.org'}"
      ]
     },
     "execution_count": 49,
     "metadata": {},
     "output_type": "execute_result"
    }
   ],
   "source": [
    "full_components[4]"
   ]
  },
  {
   "cell_type": "code",
   "execution_count": 11,
   "id": "ea9a9141-2022-4396-906d-c892f341f219",
   "metadata": {},
   "outputs": [],
   "source": [
    "org_graph = full_org_graph.subgraph(full_components[0])\n",
    "components = full_components = [c for c in sorted(nx.connected_components(org_graph), key=len, reverse=True)]"
   ]
  },
  {
   "cell_type": "markdown",
   "id": "3f03ea3f-c964-4384-a0f7-2edcd4bff98a",
   "metadata": {},
   "source": [
    "## Some graph properties"
   ]
  },
  {
   "cell_type": "code",
   "execution_count": 12,
   "id": "dd5ad8d3-0c24-48c8-b490-010c5415b2ee",
   "metadata": {},
   "outputs": [
    {
     "data": {
      "text/plain": [
       "16"
      ]
     },
     "execution_count": 12,
     "metadata": {},
     "output_type": "execute_result"
    }
   ],
   "source": [
    "nx.diameter(org_graph)"
   ]
  },
  {
   "cell_type": "markdown",
   "id": "95f10ae8-9d17-4be1-968a-5cde91f1a25a",
   "metadata": {},
   "source": [
    "# Exploring central nodes\n",
    "\n",
    "## Degree centrality"
   ]
  },
  {
   "cell_type": "code",
   "execution_count": 14,
   "id": "ed04ab94-73b4-4683-9f8d-0d22d2049608",
   "metadata": {},
   "outputs": [
    {
     "data": {
      "text/plain": [
       "20230227210357-llms.org                        0.046344\n",
       "20230227210304-ml_general.org                  0.035015\n",
       "20230624202313-mgr.org                         0.029866\n",
       "20230422190758-inbox.org                       0.028836\n",
       "20230728175310-math.org                        0.025747\n",
       "20230805172127-org_ai.org                      0.024717\n",
       "20230424133658-medsi.org                       0.023687\n",
       "20230705182132-elixir.org                      0.022657\n",
       "20230422123611-chatgpt_conversations.org       0.020597\n",
       "20230227113816-general_nlp.org                 0.020597\n",
       "20231009191924-julia.org                       0.016478\n",
       "20230417163110-wm.org                          0.015448\n",
       "20231018222527-tools.org                       0.015448\n",
       "20230326130310-llms_langchain.org              0.014418\n",
       "20230227102218-polish_nlp.org                  0.013388\n",
       "20230305115720-note_methodology.org            0.013388\n",
       "20230528181338-project_ideas.org               0.013388\n",
       "20230430132909-toolz_emacs.org                 0.013388\n",
       "20230911213401-graphs.org                      0.012358\n",
       "20230607161855-rust.org                        0.012358\n",
       "20231024195119-second_brain_map.org            0.012358\n",
       "20230410230145-llms_rust.org                   0.012358\n",
       "20230628205632-information_retrieval.org       0.011329\n",
       "20230410105707-llms_retrieval_augmented.org    0.011329\n",
       "20230422155303-projects.org                    0.011329\n",
       "dtype: float64"
      ]
     },
     "execution_count": 14,
     "metadata": {},
     "output_type": "execute_result"
    }
   ],
   "source": [
    "pd.Series(nx.degree_centrality(org_graph)).sort_values(ascending=False).iloc[:25]"
   ]
  },
  {
   "cell_type": "markdown",
   "id": "965ca092-1f56-445a-a97d-73278192f558",
   "metadata": {},
   "source": [
    "## Pagerank"
   ]
  },
  {
   "cell_type": "code",
   "execution_count": 16,
   "id": "543d29d0-6627-4edd-a28c-8b40bff84f7b",
   "metadata": {},
   "outputs": [
    {
     "data": {
      "text/plain": [
       "20230227210357-llms.org                     0.013413\n",
       "20230624202313-mgr.org                      0.012373\n",
       "20230227210304-ml_general.org               0.011360\n",
       "20230805172127-org_ai.org                   0.009812\n",
       "20230728175310-math.org                     0.008270\n",
       "20230705182132-elixir.org                   0.008027\n",
       "20230422190758-inbox.org                    0.008009\n",
       "20230422123611-chatgpt_conversations.org    0.007845\n",
       "20230424133658-medsi.org                    0.007276\n",
       "20230227113816-general_nlp.org              0.006649\n",
       "20231018222527-tools.org                    0.005572\n",
       "20230417163110-wm.org                       0.005520\n",
       "20231009191924-julia.org                    0.005346\n",
       "20230430132909-toolz_emacs.org              0.005246\n",
       "20230227102218-polish_nlp.org               0.004971\n",
       "20230607161855-rust.org                     0.004656\n",
       "20230422175934-org_ai.org                   0.004479\n",
       "20230305115720-note_methodology.org         0.004475\n",
       "20230911213401-graphs.org                   0.004266\n",
       "20230326130310-llms_langchain.org           0.004249\n",
       "20230528181338-project_ideas.org            0.004169\n",
       "20231021121233-mgr_tasks.org                0.003887\n",
       "20230628205632-information_retrieval.org    0.003749\n",
       "20230410230145-llms_rust.org                0.003642\n",
       "20231024195119-second_brain_map.org         0.003547\n",
       "dtype: float64"
      ]
     },
     "execution_count": 16,
     "metadata": {},
     "output_type": "execute_result"
    }
   ],
   "source": [
    "pd.Series(nx.pagerank(org_graph)).sort_values(ascending=False).iloc[:25]"
   ]
  },
  {
   "cell_type": "markdown",
   "id": "1c1b1e12-4b7b-49d7-8171-4fb3d357ae34",
   "metadata": {},
   "source": [
    "## Eccentricity"
   ]
  },
  {
   "cell_type": "code",
   "execution_count": 18,
   "id": "3feabe82-4622-4778-9787-645950fde38a",
   "metadata": {},
   "outputs": [
    {
     "data": {
      "text/plain": [
       "20230623111553-deep_learning_categories.org          9\n",
       "20231027174420-dimension_estimation.org              9\n",
       "20231028173653-modeling_mindsets.org                 9\n",
       "20231015131943-geometrizing_machine_learning.org     9\n",
       "20230730150956-vpn.org                               9\n",
       "                                                    ..\n",
       "20230303221733-mgr_data_size.org                    15\n",
       "20230520130241-lambda_calculus.org                  15\n",
       "20231108133003-3d_printing.org                      15\n",
       "20230226202319-pipelines_from_functions.org         16\n",
       "20230710121818-optaplanner.org                      16\n",
       "Length: 972, dtype: int64"
      ]
     },
     "execution_count": 18,
     "metadata": {},
     "output_type": "execute_result"
    }
   ],
   "source": [
    "pd.Series(nx.eccentricity(org_graph)).sort_values()"
   ]
  },
  {
   "cell_type": "markdown",
   "id": "bef3321c-c184-46c1-b392-8e1abd550646",
   "metadata": {},
   "source": [
    "## Hyperbolicity\n",
    "\n",
    "### Reduction to biconnected components\n",
    "\n",
    "Let $[a,b]$ be any shortest path between $a$ and $b$.\n",
    "\n",
    "Alternative definition says that $\\delta = max_{x,y,z} d([y,z], [x,y] \\cup [y,z])$ - the *slim triangles* condition\n",
    "\n",
    "From slim triangles condition it is easy to see that $\\delta = \\delta(G) = max_S\\ \\delta(S)$ where $S$ are the biconnected components."
   ]
  },
  {
   "cell_type": "code",
   "execution_count": 24,
   "id": "3cf928be-036a-4349-a3f8-d8f807fb4296",
   "metadata": {},
   "outputs": [],
   "source": [
    "bi_components = [c for c in sorted(nx.biconnected_components(full_org_graph), key=len, reverse=True)]\n",
    "org_graph_biggest_bicomponent = org_graph.subgraph(list(bi_components[0]))\n",
    "org_graph_biggest_bicomponent_dists = nx.floyd_warshall_numpy(org_graph_biggest_bicomponent)"
   ]
  },
  {
   "cell_type": "code",
   "execution_count": 42,
   "id": "c905696f-d595-4d1c-91ec-151a43f5b098",
   "metadata": {},
   "outputs": [
    {
     "data": {
      "text/plain": [
       "0    464\n",
       "1      6\n",
       "2      4\n",
       "3      3\n",
       "4      3\n",
       "dtype: int64"
      ]
     },
     "execution_count": 42,
     "metadata": {},
     "output_type": "execute_result"
    }
   ],
   "source": [
    "pd.Series([len(c) for c in bi_components]).head()"
   ]
  },
  {
   "cell_type": "code",
   "execution_count": 21,
   "id": "a2af87d9-e7ae-464d-a41b-e77e87a52546",
   "metadata": {},
   "outputs": [
    {
     "name": "stdout",
     "output_type": "stream",
     "text": [
      "CPU times: user 3min 13s, sys: 380 ms, total: 3min 13s\n",
      "Wall time: 3min 13s\n"
     ]
    }
   ],
   "source": [
    "%%time\n",
    "delta = CCLHyperbolicity.get_hyperbolicity(org_graph_biggest_bicomponent_dists)"
   ]
  },
  {
   "cell_type": "code",
   "execution_count": 34,
   "id": "45f657e4-55ea-48f1-92e6-027012dd3f85",
   "metadata": {},
   "outputs": [
    {
     "data": {
      "text/plain": [
       "4.0"
      ]
     },
     "execution_count": 34,
     "metadata": {},
     "output_type": "execute_result"
    }
   ],
   "source": [
    "delta"
   ]
  },
  {
   "cell_type": "markdown",
   "id": "98dcb7fc-de11-4b5f-bf52-45252978bfce",
   "metadata": {},
   "source": [
    "## Putting $\\delta$ in context\n",
    "\n",
    "### Diameter bound\n",
    "\n",
    "The trivial bound is $\\delta \\leq \\frac{diam(G)}{2}$\n",
    "\n",
    "Note that we only checked the biggest biconnected component because for the other ones $\\delta$ is smaller by the lower bound.\n",
    "\n",
    "So when we normalize by this, $\\delta_{norm} = \\delta \\frac{2}{diam(G)}$"
   ]
  },
  {
   "cell_type": "code",
   "execution_count": 31,
   "id": "d0f2d53f-f95f-41e5-9af7-3b58e408d182",
   "metadata": {},
   "outputs": [],
   "source": [
    "delta_normalized = delta / nx.diameter(org_graph) * 2"
   ]
  },
  {
   "cell_type": "code",
   "execution_count": 33,
   "id": "261d302e-313d-417e-a443-7e067d20f8cf",
   "metadata": {},
   "outputs": [
    {
     "data": {
      "text/plain": [
       "0.5"
      ]
     },
     "execution_count": 33,
     "metadata": {},
     "output_type": "execute_result"
    }
   ],
   "source": [
    "delta_normalized"
   ]
  },
  {
   "cell_type": "markdown",
   "id": "311a8755-f31d-4fbd-b814-6482060cf1be",
   "metadata": {},
   "source": [
    "### Relation to graph size\n",
    "\n",
    "In *Core-Periphery Models for Graphs Based on their δ-Hyperbolicity* authors propose to relate $\\delta$ to graph size.\n",
    "\n",
    "Their intuition is that if $\\delta \\leq log_2(V_G)$ then the graph could be considered hyperbolic."
   ]
  },
  {
   "cell_type": "code",
   "execution_count": 38,
   "id": "0dc30f6e-68da-489c-983c-e2592f584aad",
   "metadata": {},
   "outputs": [
    {
     "data": {
      "text/plain": [
       "0.4030302838010049"
      ]
     },
     "execution_count": 38,
     "metadata": {},
     "output_type": "execute_result"
    }
   ],
   "source": [
    "delta / np.log2(len(org_graph.nodes))"
   ]
  },
  {
   "cell_type": "markdown",
   "id": "5975a35f-7ecf-4061-8cb4-d9bb1b783303",
   "metadata": {},
   "source": [
    "## Spectral clustering\n",
    "\n",
    "Sources: see [A Tutorial on Spectral Clustering](https://people.csail.mit.edu/dsontag/courses/ml14/notes/Luxburg07_tutorial_spectral_clustering.pdf)"
   ]
  },
  {
   "cell_type": "code",
   "execution_count": 84,
   "id": "fe6a4fd1-91d8-457c-ab9b-d71413759bf5",
   "metadata": {},
   "outputs": [],
   "source": []
  },
  {
   "cell_type": "code",
   "execution_count": 82,
   "id": "e14a38ce-811b-4af7-8247-edd7a4f98d05",
   "metadata": {},
   "outputs": [
    {
     "data": {
      "text/plain": [
       "sklearn.cluster._spectral.SpectralClustering"
      ]
     },
     "execution_count": 82,
     "metadata": {},
     "output_type": "execute_result"
    }
   ],
   "source": [
    "SpectralClustering"
   ]
  },
  {
   "cell_type": "code",
   "execution_count": 94,
   "id": "f199a904-c989-4c6c-964c-b209025cdac4",
   "metadata": {},
   "outputs": [],
   "source": [
    "from typing import Any\n",
    "from pydantic import BaseModel\n",
    "\n",
    "\n",
    "class GraphClusterer(BaseModel):\n",
    "    clusterer: Any\n",
    "    \n",
    "    def cluster_graph(self, graph):\n",
    "        dists = nx.floyd_warshall_numpy(graph)\n",
    "        return self.clusterer.fit_predict(self.apply_heat_kernel(dists, self.clusterer.gamma))\n",
    "\n",
    "    def get_clustering_df(self, graph):\n",
    "        clusters_spectral = self.cluster_graph(graph)\n",
    "        return pd.DataFrame({\"name\": graph.nodes(), \"cluster_spectral\": clusters_spectral}).sort_values(\"cluster_spectral\")\n",
    "    \n",
    "    @classmethod\n",
    "    def apply_heat_kernel(cls, dists, gamma=1.0):\n",
    "        return np.exp(-gamma * dists / dists.std())"
   ]
  },
  {
   "cell_type": "code",
   "execution_count": 95,
   "id": "708f1697-695f-4e9c-af0b-db8ce9df754e",
   "metadata": {},
   "outputs": [],
   "source": [
    "graph_clusterer  = GraphClusterer(clusterer=SpectralClustering(n_clusters=10, affinity=\"precomputed\", gamma=1.0))"
   ]
  },
  {
   "cell_type": "code",
   "execution_count": 96,
   "id": "053d7dbe-61a5-4ce7-a6ad-40f1e039a67c",
   "metadata": {},
   "outputs": [],
   "source": [
    "spectral_clustering_df = graph_clusterer.get_clustering_df(org_graph)"
   ]
  },
  {
   "cell_type": "code",
   "execution_count": 101,
   "id": "ecebe902-2937-465c-b628-b1cd1918776c",
   "metadata": {},
   "outputs": [
    {
     "data": {
      "text/html": [
       "<div>\n",
       "<style scoped>\n",
       "    .dataframe tbody tr th:only-of-type {\n",
       "        vertical-align: middle;\n",
       "    }\n",
       "\n",
       "    .dataframe tbody tr th {\n",
       "        vertical-align: top;\n",
       "    }\n",
       "\n",
       "    .dataframe thead th {\n",
       "        text-align: right;\n",
       "    }\n",
       "</style>\n",
       "<table border=\"1\" class=\"dataframe\">\n",
       "  <thead>\n",
       "    <tr style=\"text-align: right;\">\n",
       "      <th></th>\n",
       "      <th>name</th>\n",
       "      <th>cluster_spectral</th>\n",
       "    </tr>\n",
       "  </thead>\n",
       "  <tbody>\n",
       "    <tr>\n",
       "      <th>622</th>\n",
       "      <td>20231009145306-unsupervised_ml.org</td>\n",
       "      <td>0</td>\n",
       "    </tr>\n",
       "    <tr>\n",
       "      <th>240</th>\n",
       "      <td>20230502190536-value_networks.org</td>\n",
       "      <td>0</td>\n",
       "    </tr>\n",
       "    <tr>\n",
       "      <th>753</th>\n",
       "      <td>20231031115359-ml_evaluation.org</td>\n",
       "      <td>0</td>\n",
       "    </tr>\n",
       "    <tr>\n",
       "      <th>752</th>\n",
       "      <td>20231030233942-phase_transitions.org</td>\n",
       "      <td>0</td>\n",
       "    </tr>\n",
       "    <tr>\n",
       "      <th>751</th>\n",
       "      <td>20231030233842-breakthroughs.org</td>\n",
       "      <td>0</td>\n",
       "    </tr>\n",
       "    <tr>\n",
       "      <th>...</th>\n",
       "      <td>...</td>\n",
       "      <td>...</td>\n",
       "    </tr>\n",
       "    <tr>\n",
       "      <th>371</th>\n",
       "      <td>20230612180114-clearml_pipeline_parameters.org</td>\n",
       "      <td>9</td>\n",
       "    </tr>\n",
       "    <tr>\n",
       "      <th>370</th>\n",
       "      <td>20230612174359-clearml_pipeline_caching.org</td>\n",
       "      <td>9</td>\n",
       "    </tr>\n",
       "    <tr>\n",
       "      <th>363</th>\n",
       "      <td>20230611135315-org_capture_link.org</td>\n",
       "      <td>9</td>\n",
       "    </tr>\n",
       "    <tr>\n",
       "      <th>910</th>\n",
       "      <td>20240112115433-sql.org</td>\n",
       "      <td>9</td>\n",
       "    </tr>\n",
       "    <tr>\n",
       "      <th>189</th>\n",
       "      <td>20230421172117-clearml.org</td>\n",
       "      <td>9</td>\n",
       "    </tr>\n",
       "  </tbody>\n",
       "</table>\n",
       "<p>972 rows × 2 columns</p>\n",
       "</div>"
      ],
      "text/plain": [
       "                                               name  cluster_spectral\n",
       "622              20231009145306-unsupervised_ml.org                 0\n",
       "240               20230502190536-value_networks.org                 0\n",
       "753                20231031115359-ml_evaluation.org                 0\n",
       "752            20231030233942-phase_transitions.org                 0\n",
       "751                20231030233842-breakthroughs.org                 0\n",
       "..                                              ...               ...\n",
       "371  20230612180114-clearml_pipeline_parameters.org                 9\n",
       "370     20230612174359-clearml_pipeline_caching.org                 9\n",
       "363             20230611135315-org_capture_link.org                 9\n",
       "910                          20240112115433-sql.org                 9\n",
       "189                      20230421172117-clearml.org                 9\n",
       "\n",
       "[972 rows x 2 columns]"
      ]
     },
     "execution_count": 101,
     "metadata": {},
     "output_type": "execute_result"
    }
   ],
   "source": [
    "spectral_clustering_df"
   ]
  },
  {
   "cell_type": "code",
   "execution_count": null,
   "id": "e654640b-5f52-494e-9564-87ea1d82773c",
   "metadata": {},
   "outputs": [],
   "source": []
  }
 ],
 "metadata": {
  "kernelspec": {
   "display_name": "noteboard",
   "language": "python",
   "name": "noteboard"
  },
  "language_info": {
   "codemirror_mode": {
    "name": "ipython",
    "version": 3
   },
   "file_extension": ".py",
   "mimetype": "text/x-python",
   "name": "python",
   "nbconvert_exporter": "python",
   "pygments_lexer": "ipython3",
   "version": "3.10.12"
  }
 },
 "nbformat": 4,
 "nbformat_minor": 5
}
